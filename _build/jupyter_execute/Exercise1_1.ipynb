{
 "cells": [
  {
   "cell_type": "markdown",
   "metadata": {},
   "source": [
    "### Μέρος 1:  Εξάσκηση στην Python\n",
    "---"
   ]
  },
  {
   "cell_type": "code",
   "execution_count": 1,
   "metadata": {
    "tags": [
     "remove-cell"
    ]
   },
   "outputs": [
    {
     "data": {
      "text/plain": [
       "'1.20.1'"
      ]
     },
     "execution_count": 1,
     "metadata": {},
     "output_type": "execute_result"
    }
   ],
   "source": [
    "from scipy import signal\n",
    "# Ανατρέξτε στην τεκμηρίωση της βιβλιοθήκης scipy.signal\n",
    "# https://docs.scipy.org/doc/scipy/reference/signal.html\n",
    "import matplotlib\n",
    "import matplotlib.pyplot as plt\n",
    "import numpy as np\n",
    "from numpy import random\n",
    "# Δείτε την έκδοση της αριθμητικής βιβλιοθήκης numpy\n",
    "np.__version__"
   ]
  },
  {
   "cell_type": "code",
   "execution_count": 2,
   "metadata": {
    "tags": [
     "remove-cell"
    ]
   },
   "outputs": [],
   "source": [
    "import warnings\n",
    "warnings.filterwarnings('ignore')"
   ]
  },
  {
   "cell_type": "markdown",
   "metadata": {},
   "source": [
    "Μην ξεχνάτε ότι η IPython μας δίνει τη δυνατότητα να 'εξερευνήσουμε' το περιεχόμενο ενός package, χρησιμοποιώντας τη δυνατότητα του tab-completion, ή τη χρήση του ? για help/documentation: \n",
    "Π.χ., για να δούμε όλα τα περιεχόμενα του signal namespace δίνουμε:\n",
    "\n",
    "In [3]: signal?\n",
    "    \n",
    "και για να καλέσουμε την ενσωμετωμένη τεκμηρίωση της numpy, δίνουμε:\n",
    "\n",
    "In [4]: np?\n",
    "\n",
    "Περισσότερες πληροφορίες μπορείτε να πάρετε από το http://www.numpy.org."
   ]
  },
  {
   "cell_type": "code",
   "execution_count": 3,
   "metadata": {},
   "outputs": [
    {
     "name": "stdout",
     "output_type": "stream",
     "text": [
      "s = 2\n"
     ]
    }
   ],
   "source": [
    "# Δημιουργήστε ένα βαθμωτό (μονοδιάστατο) μέγεθος\n",
    "\n",
    "s=2\n",
    "print('s =',s)"
   ]
  },
  {
   "cell_type": "code",
   "execution_count": 4,
   "metadata": {},
   "outputs": [
    {
     "name": "stdout",
     "output_type": "stream",
     "text": [
      "v = [1 5 9]\n"
     ]
    }
   ],
   "source": [
    "# Δημιουργείστε ένα διάνυσμα πραγματικών τιμών:\n",
    "# Στο MATLAB: v = [1,5,9] ή v = [1 5 9]\n",
    "\n",
    "v=np.array([1,5,9])\n",
    "print('v =',v)"
   ]
  },
  {
   "cell_type": "code",
   "execution_count": 5,
   "metadata": {},
   "outputs": [
    {
     "name": "stdout",
     "output_type": "stream",
     "text": [
      "1 5\n",
      "9 5\n"
     ]
    }
   ],
   "source": [
    "# Πρόσβαση στα στοιχεία ενός numpy array\n",
    "# το πρώτο στοιχείο ξεκινάει στο 0\n",
    "\n",
    "print(v[0], end=\" \")\n",
    "print(v[1])\n",
    "\n",
    "# υπάρχει και η δυνατότητα πρόσβασης στοιχείων από το τέλος με αρνητικούς δείκτες\n",
    "# το τελευταίο στοιχείο έχει δείκτη -1 το προτελευταλιο -2 κ.ο.κ.\n",
    "\n",
    "print(v[-1], end=\" \")\n",
    "print(v[-2])"
   ]
  },
  {
   "cell_type": "code",
   "execution_count": 6,
   "metadata": {},
   "outputs": [
    {
     "name": "stdout",
     "output_type": "stream",
     "text": [
      "[1 5 9]\n",
      "[9 7 3 2]\n",
      "[5 9 7 3]\n",
      "[1 9 3]\n"
     ]
    }
   ],
   "source": [
    "# Τα numpy arrays προσφέρουν και δυνατότητες τεμαχισμού (slicing)\n",
    "# το απλό slicing u[start:end] ξεκινάει από το στοιχείο\n",
    "# στη θέση start και φτάνει στη θέση end (χωρίς να την περιέχει)\n",
    "# αν η αρχή ή το τέλος παραληφθεί, αυτά λαμβάνονται η αρχή ή το τέλος του πίνακα\n",
    "# επίσης μπορεί να χρησιμοποιηθεί και βήμα με την μορφή u[start:end:step]\n",
    "\n",
    "u=np.array([1,5,9,7,3,2])\n",
    "print(u[:3])\n",
    "print(u[2:])\n",
    "print(u[1:5])\n",
    "\n",
    "print(u[::2])\n"
   ]
  },
  {
   "cell_type": "code",
   "execution_count": 7,
   "metadata": {},
   "outputs": [
    {
     "name": "stdout",
     "output_type": "stream",
     "text": [
      "τεμάχιο:                        [9 7 3]\n",
      "αρχικός πίνακας:                [1 5 9 7 3 2]\n",
      "τεμάχιο μετά από αλλαγή:        [8 7 3]\n",
      "αρχικός πίνακα μετά από αλλαγή: [1 5 8 7 3 2]\n",
      "\n",
      "τεμάχιο με .copy() μετά από αλλαγή:        [9 7 3]\n",
      "αρχικός πίνακα μετά από αλλαγή με .copy(): [1 5 8 7 3 2]\n"
     ]
    }
   ],
   "source": [
    "# Προσσοχή, όταν θέλουμε να εξάγουμε από έναν πίνακα ένα συγκερκιμένο τεμάχιο\n",
    "# όπως παρακάτω, τα δύο numpy arrays είναι σενδεδεμένα, δηλ. ο,τι αλλάζει στο ένα\n",
    "# αλλάζει και στο άλλο\n",
    "u_slice1 = u[2:5]\n",
    "print(\"τεμάχιο:                       \", u_slice1)\n",
    "print(\"αρχικός πίνακας:               \", u)\n",
    "u_slice1[0] = 8\n",
    "print(\"τεμάχιο μετά από αλλαγή:       \", u_slice1)\n",
    "print(\"αρχικός πίνακα μετά από αλλαγή:\", u)\n",
    "\n",
    "# Όποτε θέλουμε να το αποφύγουμε αυτό χρησιμοποιούμε το .copy()\n",
    "u_slice2 = u[2:5].copy()\n",
    "u_slice2[0] = 9\n",
    "print(\"\\nτεμάχιο με .copy() μετά από αλλαγή:       \", u_slice2)\n",
    "print(\"αρχικός πίνακα μετά από αλλαγή με .copy():\", u)"
   ]
  },
  {
   "cell_type": "code",
   "execution_count": 8,
   "metadata": {},
   "outputs": [
    {
     "name": "stdout",
     "output_type": "stream",
     "text": [
      "a = [[1 2 3]\n",
      " [4 5 6]\n",
      " [7 8 9]]\n"
     ]
    }
   ],
   "source": [
    "# Δημιουργείστε έναν πίνακα πραγματικών τιμών:\n",
    "# Στο MATLAB: a = a=[[1,2,3];[4,5,6];[7,8,9]] ή a=[1,2,3;4,5,6;7,8,9]\n",
    "a=np.array([[1,2,3],[4,5,6],[7,8,9]])\n",
    "print('a =',a)"
   ]
  },
  {
   "cell_type": "code",
   "execution_count": 9,
   "metadata": {},
   "outputs": [
    {
     "data": {
      "text/plain": [
       "array([[ 6,  7,  8],\n",
       "       [ 9, 10, 11],\n",
       "       [12, 13, 14]])"
      ]
     },
     "execution_count": 9,
     "metadata": {},
     "output_type": "execute_result"
    }
   ],
   "source": [
    "# Αθροίστε\n",
    "\n",
    "a+5"
   ]
  },
  {
   "cell_type": "code",
   "execution_count": 10,
   "metadata": {},
   "outputs": [
    {
     "name": "stdout",
     "output_type": "stream",
     "text": [
      "b = [ 4 20 36]\n"
     ]
    }
   ],
   "source": [
    "#Πολλαπλασιάστε\n",
    "\n",
    "b=s*v*2\n",
    "print('b =',b)"
   ]
  },
  {
   "cell_type": "code",
   "execution_count": 11,
   "metadata": {},
   "outputs": [
    {
     "data": {
      "text/plain": [
       "array([  4, 100, 324])"
      ]
     },
     "execution_count": 11,
     "metadata": {},
     "output_type": "execute_result"
    }
   ],
   "source": [
    "# Πολλαπλασιάστε στοιχείο-προς-στοιχείο (elementwise)\n",
    "# MATLAB: v.*b\n",
    "\n",
    "np.multiply(v,b)"
   ]
  },
  {
   "cell_type": "code",
   "execution_count": 12,
   "metadata": {},
   "outputs": [
    {
     "data": {
      "text/plain": [
       "3"
      ]
     },
     "execution_count": 12,
     "metadata": {},
     "output_type": "execute_result"
    }
   ],
   "source": [
    "#Ελέγξτε το μήκος ενός διανύσματος\n",
    "# MATLAB: length(v)\n",
    "\n",
    "len(v)"
   ]
  },
  {
   "cell_type": "code",
   "execution_count": 13,
   "metadata": {},
   "outputs": [
    {
     "data": {
      "text/plain": [
       "(3, 3)"
      ]
     },
     "execution_count": 13,
     "metadata": {},
     "output_type": "execute_result"
    }
   ],
   "source": [
    "# Ελέγξτε το μέγεθος ενός πίνακα\n",
    "# MATLAB: size(a)\n",
    "\n",
    "a.shape   # για array: np.array(a.shape)"
   ]
  },
  {
   "cell_type": "code",
   "execution_count": 14,
   "metadata": {},
   "outputs": [
    {
     "data": {
      "text/plain": [
       "2"
      ]
     },
     "execution_count": 14,
     "metadata": {},
     "output_type": "execute_result"
    }
   ],
   "source": [
    "# Προσπελάστε συγκεκριμένα στοιχεία ενός πίνακα\n",
    "# Η δεικτοδότηση αρχίζει από το 0. \n",
    "# MATLAB: a(1,2)  \n",
    "# --- ΠΡΟΣΟΧΗ, στο MATLAB η δεικτοδ΄ότηση αρχ΄ίζει από το 1!\n",
    "\n",
    "a[0,1]"
   ]
  },
  {
   "cell_type": "code",
   "execution_count": 15,
   "metadata": {},
   "outputs": [
    {
     "data": {
      "text/plain": [
       "6"
      ]
     },
     "execution_count": 15,
     "metadata": {},
     "output_type": "execute_result"
    }
   ],
   "source": [
    "# Προσπελάστε συγκεκριμένα στοιχεία ενός πίνακα (συνέχεια)\n",
    "# Αρνητικές τιμές μετρούν από το τέλος, π.χ. το -1 \n",
    "# αναφέρεται στο τελευταίο στοιχείο)\n",
    "\n",
    "a[1,-1]"
   ]
  },
  {
   "cell_type": "code",
   "execution_count": 16,
   "metadata": {},
   "outputs": [
    {
     "data": {
      "text/plain": [
       "array([5, 9])"
      ]
     },
     "execution_count": 16,
     "metadata": {},
     "output_type": "execute_result"
    }
   ],
   "source": [
    "# Προσπελάστε συγκεκριμένο τμήμα ενός διανύσματος\n",
    "# MATLAB: v(1:9)\n",
    "\n",
    "v[1:3]\n",
    "\n",
    "# ΠΡΟΣΟΧΗ: τα στοιχεία [2ο,3ο] δίνονται ως 1:3 και όχι ως 1:2\n",
    "# Δοκιμάστε το v[1:2]..."
   ]
  },
  {
   "cell_type": "code",
   "execution_count": 17,
   "metadata": {},
   "outputs": [
    {
     "data": {
      "text/plain": [
       "array([[1, 2, 3],\n",
       "       [4, 5, 6]])"
      ]
     },
     "execution_count": 17,
     "metadata": {},
     "output_type": "execute_result"
    }
   ],
   "source": [
    "# Προσπελάστε συγκεκριμένα τμήματα ενός πίνακα\n",
    "\n",
    "a[0:2,:]\n",
    "\n",
    "# Ομοίως: οι γραμμές 1 & 2 δίνονται ως 0:2 και όχι ως 0:1"
   ]
  },
  {
   "cell_type": "code",
   "execution_count": 18,
   "metadata": {},
   "outputs": [
    {
     "name": "stdout",
     "output_type": "stream",
     "text": [
      "t= [0.  0.1 0.2 0.3 0.4]\n"
     ]
    }
   ],
   "source": [
    "# Δημιουργήστε ένα διάνυσμα με στοιχεία από το 0 έως το 0.5 και βήμα 0.1\n",
    "# MATLAB: t=(0:0.1:0.4)\n",
    "\n",
    "t=np.arange(0,0.5,0.1)\n",
    "print('t=',t)"
   ]
  }
 ],
 "metadata": {
  "celltoolbar": "Tags",
  "kernelspec": {
   "display_name": "Python 3",
   "language": "python",
   "name": "python3"
  },
  "language_info": {
   "codemirror_mode": {
    "name": "ipython",
    "version": 3
   },
   "file_extension": ".py",
   "mimetype": "text/x-python",
   "name": "python",
   "nbconvert_exporter": "python",
   "pygments_lexer": "ipython3",
   "version": "3.9.0"
  }
 },
 "nbformat": 4,
 "nbformat_minor": 2
}